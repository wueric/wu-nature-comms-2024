{
 "cells": [
  {
   "cell_type": "code",
   "execution_count": 1,
   "id": "bca6811e-7ab7-4444-8dfe-ef656fb150fc",
   "metadata": {
    "pycharm": {
     "name": "#%%\n"
    }
   },
   "outputs": [],
   "source": [
    "import numpy as np\n",
    "import matplotlib.pyplot as plt\n",
    "import matplotlib.patches as mpatches\n",
    "from matplotlib.animation import FuncAnimation\n",
    "from IPython import display\n",
    "\n",
    "import torch\n",
    "\n",
    "import pickle\n",
    "import os"
   ]
  },
  {
   "cell_type": "code",
   "execution_count": 2,
   "id": "eccbe46e-97ee-417b-8050-65a0becf0487",
   "metadata": {
    "pycharm": {
     "name": "#%%\n"
    }
   },
   "outputs": [],
   "source": [
    "from lib.dataset_config_parser.trained_model_config_parser import parse_prefit_glm_paths\n",
    "from optimization_encoder.trial_glm import load_fitted_glm_families\n",
    "from denoise_inverse_alg.glm_inverse_alg import PackedGLMTensors, reinflate_cropped_glm_model\n",
    "import lib.data_utils.dynamic_data_util as ddu"
   ]
  },
  {
   "cell_type": "code",
   "execution_count": 3,
   "id": "d1b4e6a6-ec16-4cae-ba8a-c538810ef6bf",
   "metadata": {
    "pycharm": {
     "name": "#%%\n"
    }
   },
   "outputs": [],
   "source": [
    "%matplotlib inline"
   ]
  },
  {
   "cell_type": "code",
   "execution_count": 4,
   "id": "7ffb7e9e-ae7c-41ab-806c-17be10ac544d",
   "metadata": {
    "pycharm": {
     "name": "#%%\n"
    }
   },
   "outputs": [],
   "source": [
    "BASEPATH='/Volumes/Backup/Scratch/Users/wueric/SUBMISSION_DATA_reconstruction/jitter/' # change this\n",
    "HEIGHT = 160\n",
    "WIDTH = 256\n",
    "\n",
    "SAMPLES_PER_BIN = 20 # 1 ms bins @ 20 kHz sampling rate"
   ]
  },
  {
   "cell_type": "code",
   "execution_count": null,
   "outputs": [],
   "source": [
    "device = torch.device('cuda:1') # change this for your machine"
   ],
   "metadata": {
    "collapsed": false,
    "pycharm": {
     "name": "#%%\n"
    }
   }
  },
  {
   "cell_type": "markdown",
   "source": [
    "# Demonstration for jittered natural movie reconstruction"
   ],
   "metadata": {
    "collapsed": false,
    "pycharm": {
     "name": "#%% md\n"
    }
   }
  },
  {
   "cell_type": "markdown",
   "source": [
    "### Load the demonstration dataset"
   ],
   "metadata": {
    "collapsed": false,
    "pycharm": {
     "name": "#%% md\n"
    }
   }
  },
  {
   "cell_type": "code",
   "execution_count": null,
   "outputs": [],
   "source": [
    "with open(os.path.join(BASEPATH, '2018_08_07_5_jittered_demo_data.p'), 'rb') as pfile:\n",
    "    demo_dataset = pickle.load(pfile)"
   ],
   "metadata": {
    "collapsed": false,
    "pycharm": {
     "name": "#%%\n"
    }
   }
  },
  {
   "cell_type": "code",
   "execution_count": null,
   "outputs": [],
   "source": [
    "demo_data_dict = demo_dataset['data']\n",
    "demo_data_metadata = demo_dataset['metadata']"
   ],
   "metadata": {
    "collapsed": false,
    "pycharm": {
     "name": "#%%\n"
    }
   }
  },
  {
   "cell_type": "code",
   "execution_count": null,
   "outputs": [],
   "source": [
    "demo_dataloader = ddu.DemoJitteredMovieDataloader(demo_data_dict)"
   ],
   "metadata": {
    "collapsed": false,
    "pycharm": {
     "name": "#%%\n"
    }
   }
  },
  {
   "cell_type": "markdown",
   "source": [
    "### Load the models"
   ],
   "metadata": {
    "collapsed": false,
    "pycharm": {
     "name": "#%% md\n"
    }
   }
  },
  {
   "cell_type": "code",
   "execution_count": null,
   "outputs": [],
   "source": [
    "# metadata keeping track of what cell is what\n",
    "CELL_ORDERING_PATH = os.path.join(BASEPATH, 'pickles', 'reclassed.p')\n",
    "\n",
    "################################################################\n",
    "# Load the cell types and matching\n",
    "with open(CELL_ORDERING_PATH, 'rb') as ordered_cells_file:\n",
    "    cells_ordered = pickle.load(ordered_cells_file)  # type: OrderedMatchedCellsStruct\n",
    "ct_order = cells_ordered.get_cell_types()\n",
    "\n",
    "cell_ids_as_ordered_list = []\n",
    "for ct in ct_order:\n",
    "    cell_ids_as_ordered_list.extend(cells_ordered.get_reference_cell_order(ct))"
   ],
   "metadata": {
    "collapsed": false,
    "pycharm": {
     "name": "#%%\n"
    }
   }
  },
  {
   "cell_type": "code",
   "execution_count": null,
   "outputs": [],
   "source": [
    "# metadata for keeping track of the spatial filter bounding box for each cell\n",
    "with open(os.path.join(BASEPATH, 'pickles', 'cropped_glm_bbox.pickle'), 'rb') as pfile:\n",
    "    bounding_boxes_by_type = pickle.load(pfile)"
   ],
   "metadata": {
    "collapsed": false,
    "pycharm": {
     "name": "#%%\n"
    }
   }
  },
  {
   "cell_type": "code",
   "execution_count": null,
   "outputs": [],
   "source": [
    "# load the pre-fitted LNBRC models from disk\n",
    "fitted_glm_paths = parse_prefit_glm_paths(os.path.join(BASEPATH, 'models', 'group0.yaml'))\n",
    "fitted_glm_families = load_fitted_glm_families(fitted_glm_paths)"
   ],
   "metadata": {
    "collapsed": false,
    "pycharm": {
     "name": "#%%\n"
    }
   }
  },
  {
   "cell_type": "code",
   "execution_count": null,
   "outputs": [],
   "source": [
    "# pack the fitted models into tensors\n",
    "packed_glm_tensors = reinflate_cropped_glm_model(\n",
    "    fitted_glm_families,\n",
    "    bounding_boxes_by_type,\n",
    "    cells_ordered,\n",
    "    HEIGHT,\n",
    "    WIDTH,\n",
    "    downsample_factor=demo_data_metadata['downsample_factor'],\n",
    "    crop_width_low=demo_data_metadata['crop_width_low'],\n",
    "    crop_width_high=demo_data_metadata['crop_width_high'],\n",
    "    crop_height_low=demo_data_metadata['crop_height_low'],\n",
    "    crop_height_high=demo_data_metadata['crop_height_high']\n",
    ")"
   ],
   "metadata": {
    "collapsed": false,
    "pycharm": {
     "name": "#%%\n"
    }
   }
  },
  {
   "cell_type": "markdown",
   "source": [
    "### Look at example model parameters\n",
    "\n",
    "This is an example ON parasol"
   ],
   "metadata": {
    "collapsed": false,
    "pycharm": {
     "name": "#%% md\n"
    }
   }
  },
  {
   "cell_type": "code",
   "execution_count": null,
   "outputs": [],
   "source": [
    "EXAMPLE_ID = 1046\n",
    "EXAMPLE_PARAMS = fitted_glm_families['ON parasol'].fitted_models[EXAMPLE_ID]\n",
    "EXAMPLE_BOUNDING_BOX = bounding_boxes_by_type['ON parasol'][cells_ordered.get_idx_for_same_type_cell_id_list('ON parasol', [EXAMPLE_ID, ])[0]]"
   ],
   "metadata": {
    "collapsed": false,
    "pycharm": {
     "name": "#%%\n"
    }
   }
  },
  {
   "cell_type": "code",
   "execution_count": null,
   "outputs": [],
   "source": [
    "timecourse_basis = fitted_glm_families['ON parasol'].timecourse_basis\n",
    "feedback_basis = fitted_glm_families['ON parasol'].feedback_basis\n",
    "coupling_basis = fitted_glm_families['ON parasol'].coupling_basis"
   ],
   "metadata": {
    "collapsed": false,
    "pycharm": {
     "name": "#%%\n"
    }
   }
  },
  {
   "cell_type": "code",
   "execution_count": null,
   "outputs": [],
   "source": [
    "full_spatial_filter = np.zeros((HEIGHT, WIDTH), dtype=np.float32)\n",
    "\n",
    "putback_slice_obj_h, putback_slice_obj_w = EXAMPLE_BOUNDING_BOX.make_precropped_sliceobj(\n",
    "    downsample_factor=demo_data_metadata['downsample_factor'],\n",
    "    crop_wlow=demo_data_metadata['crop_width_low'],\n",
    "    crop_whigh=demo_data_metadata['crop_width_high'],\n",
    "    crop_hlow=demo_data_metadata['crop_height_low'],\n",
    "    crop_hhigh=demo_data_metadata['crop_height_high'])\n",
    "\n",
    "full_spatial_filter[putback_slice_obj_h, putback_slice_obj_w] = EXAMPLE_PARAMS.spatial_weights"
   ],
   "metadata": {
    "collapsed": false,
    "pycharm": {
     "name": "#%%\n"
    }
   }
  },
  {
   "cell_type": "code",
   "execution_count": null,
   "outputs": [],
   "source": [
    "LIM=2e-2\n",
    "fig, ax = plt.subplots()\n",
    "ax.imshow(full_spatial_filter, cmap='bwr', vmin=-LIM, vmax=LIM)\n",
    "ax.set_xticks([])\n",
    "ax.set_yticks([])\n",
    "ax.axis('equal')\n",
    "ax.set_title(f'ON parasol {EXAMPLE_ID} spatial stimulus filter')\n",
    "plt.show()"
   ],
   "metadata": {
    "collapsed": false,
    "pycharm": {
     "name": "#%%\n"
    }
   }
  },
  {
   "cell_type": "code",
   "execution_count": null,
   "outputs": [],
   "source": [
    "timecourse_filter = (EXAMPLE_PARAMS.timecourse_weights @ timecourse_basis).squeeze(0)\n",
    "fig, ax = plt.subplots(figsize=(5, 2))\n",
    "ax.set_xlim([-252, 0])\n",
    "ax.plot(np.r_[-250:0], timecourse_filter, color='red', lw=2)\n",
    "ax.set_title(f'ON parasol {EXAMPLE_ID} temporal stimulus filter')\n",
    "ax.set_xlabel('Time [ms]')\n",
    "ax.set_ylabel('Intensity [au]')\n",
    "plt.show()"
   ],
   "metadata": {
    "collapsed": false,
    "pycharm": {
     "name": "#%%\n"
    }
   }
  },
  {
   "cell_type": "code",
   "execution_count": null,
   "outputs": [],
   "source": [
    "feedback_filter = (EXAMPLE_PARAMS.feedback_weights @ feedback_basis).squeeze(0)\n",
    "fig, ax = plt.subplots(figsize=(5, 2))\n",
    "ax.set_xlim([-252, 0])\n",
    "\n",
    "ax.plot(np.r_[-250:0], feedback_filter[::-1], color='black', lw=2)\n",
    "\n",
    "ax.set_title(f'ON parasol {EXAMPLE_ID} feedback filter')\n",
    "ax.set_xlabel('Time [ms]')\n",
    "ax.set_ylabel('Intensity [au]')\n",
    "\n",
    "plt.show()"
   ],
   "metadata": {
    "collapsed": false,
    "pycharm": {
     "name": "#%%\n"
    }
   }
  },
  {
   "cell_type": "code",
   "execution_count": null,
   "outputs": [],
   "source": [
    "coupling_weights, coupling_cells = EXAMPLE_PARAMS.coupling_cells_weights\n",
    "coupling_filters = coupling_weights @ coupling_basis\n",
    "\n",
    "COUPLED_CELL_TYPES = cells_ordered.get_cell_types()\n",
    "coupled_filters_by_type = {ct: [] for ct in COUPLED_CELL_TYPES}\n",
    "\n",
    "for ix, coupled_cell_id in enumerate(coupling_cells):\n",
    "    coupled_type = cells_ordered.get_cell_type_for_cell_id(coupled_cell_id)\n",
    "    coupled_filters_by_type[coupled_type].append(coupling_filters[ix, :])"
   ],
   "metadata": {
    "collapsed": false,
    "pycharm": {
     "name": "#%%\n"
    }
   }
  },
  {
   "cell_type": "code",
   "execution_count": null,
   "outputs": [],
   "source": [
    "DEMO_COUPLED_TYPE = 'ON parasol'\n",
    "COUPLE_MAX = 1.0\n",
    "\n",
    "fig, ax = plt.subplots(figsize=(5, 2))\n",
    "ax.set_xlim([-252, 0])\n",
    "ax.axhline(y=0, color='black', lw=0.5, xmin=0, xmax=1)\n",
    "\n",
    "for cf in coupled_filters_by_type[DEMO_COUPLED_TYPE]:\n",
    "    ax.plot(np.r_[-250:0], cf[::-1], lw=1)\n",
    "ax.set_ylim([-COUPLE_MAX, COUPLE_MAX])\n",
    "\n",
    "ax.set_title(f'Nearby {DEMO_COUPLED_TYPE} coupling filters')\n",
    "ax.set_xlabel('Time [ms]')\n",
    "ax.set_ylabel('Intensity [au]')\n",
    "\n",
    "plt.show()"
   ],
   "metadata": {
    "collapsed": false,
    "pycharm": {
     "name": "#%%\n"
    }
   }
  },
  {
   "cell_type": "code",
   "execution_count": null,
   "outputs": [],
   "source": [
    "DEMO_COUPLED_TYPE = 'OFF parasol'\n",
    "COUPLE_MAX = 1.0\n",
    "\n",
    "fig, ax = plt.subplots(figsize=(5, 2))\n",
    "ax.set_xlim([-252, 0])\n",
    "ax.axhline(y=0, color='black', lw=0.5, xmin=0, xmax=1)\n",
    "\n",
    "for cf in coupled_filters_by_type[DEMO_COUPLED_TYPE]:\n",
    "    ax.plot(np.r_[-250:0], cf[::-1], lw=1)\n",
    "ax.set_ylim([-COUPLE_MAX, COUPLE_MAX])\n",
    "\n",
    "ax.set_title(f'Nearby {DEMO_COUPLED_TYPE} coupling filters')\n",
    "ax.set_xlabel('Time [ms]')\n",
    "ax.set_ylabel('Intensity [au]')\n",
    "\n",
    "plt.show()"
   ],
   "metadata": {
    "collapsed": false,
    "pycharm": {
     "name": "#%%\n"
    }
   }
  },
  {
   "cell_type": "code",
   "execution_count": null,
   "outputs": [],
   "source": [
    "DEMO_COUPLED_TYPE = 'ON midget'\n",
    "COUPLE_MAX = 1.0\n",
    "\n",
    "fig, ax = plt.subplots(figsize=(5, 2))\n",
    "ax.set_xlim([-252, 0])\n",
    "ax.axhline(y=0, color='black', lw=0.5, xmin=0, xmax=1)\n",
    "\n",
    "for cf in coupled_filters_by_type[DEMO_COUPLED_TYPE]:\n",
    "    ax.plot(np.r_[-250:0], cf[::-1], lw=1)\n",
    "ax.set_ylim([-COUPLE_MAX, COUPLE_MAX])\n",
    "\n",
    "ax.set_title(f'Nearby {DEMO_COUPLED_TYPE} coupling filters')\n",
    "ax.set_xlabel('Time [ms]')\n",
    "ax.set_ylabel('Intensity [au]')\n",
    "\n",
    "plt.show()"
   ],
   "metadata": {
    "collapsed": false,
    "pycharm": {
     "name": "#%%\n"
    }
   }
  },
  {
   "cell_type": "code",
   "execution_count": null,
   "outputs": [],
   "source": [
    "DEMO_COUPLED_TYPE = 'OFF midget'\n",
    "COUPLE_MAX = 1.0\n",
    "\n",
    "fig, ax = plt.subplots(figsize=(5, 2))\n",
    "ax.set_xlim([-252, 0])\n",
    "ax.axhline(y=0, color='black', lw=0.5, xmin=0, xmax=1)\n",
    "\n",
    "for cf in coupled_filters_by_type[DEMO_COUPLED_TYPE]:\n",
    "    ax.plot(np.r_[-250:0], cf[::-1], lw=1)\n",
    "ax.set_ylim([-COUPLE_MAX, COUPLE_MAX])\n",
    "\n",
    "ax.set_title(f'Nearby {DEMO_COUPLED_TYPE} coupling filters')\n",
    "ax.set_xlabel('Time [ms]')\n",
    "ax.set_ylabel('Intensity [au]')\n",
    "\n",
    "plt.show()"
   ],
   "metadata": {
    "collapsed": false,
    "pycharm": {
     "name": "#%%\n"
    }
   }
  },
  {
   "cell_type": "markdown",
   "source": [
    "### Look at example stimulus"
   ],
   "metadata": {
    "collapsed": false,
    "pycharm": {
     "name": "#%% md\n"
    }
   }
  },
  {
   "cell_type": "code",
   "execution_count": null,
   "outputs": [],
   "source": [
    "hist_frame, target_frame, frame_transitions, spike_bin_times, binned_spikes = demo_dataloader[0]"
   ],
   "metadata": {
    "collapsed": false,
    "pycharm": {
     "name": "#%%\n"
    }
   }
  },
  {
   "cell_type": "code",
   "execution_count": null,
   "outputs": [],
   "source": [
    "all_frames = np.concatenate([hist_frame, target_frame], axis=0)\n",
    "\n",
    "fig, ax = plt.subplots()\n",
    "ax.axis('off')\n",
    "frame = ax.imshow(all_frames[0], vmin=-1, vmax=1, cmap='gray')\n",
    "\n",
    "\n",
    "def animate(frame_num):\n",
    "    frame.set_data(all_frames[frame_num])\n",
    "    return frame\n",
    "\n",
    "anim = FuncAnimation(fig, animate, frames=all_frames.shape[0], interval=25)\n",
    "video = anim.to_html5_video()\n",
    "html = display.HTML(video)\n",
    "display.display(html)\n",
    "plt.close()"
   ],
   "metadata": {
    "collapsed": false,
    "pycharm": {
     "name": "#%%\n"
    }
   }
  },
  {
   "cell_type": "markdown",
   "source": [
    "### Look at example rasters"
   ],
   "metadata": {
    "collapsed": false,
    "pycharm": {
     "name": "#%% md\n"
    }
   }
  },
  {
   "cell_type": "code",
   "execution_count": null,
   "outputs": [],
   "source": [
    "full_example_event_acc = []\n",
    "for cell_ix in range(binned_spikes.shape[0]):\n",
    "    \n",
    "    spike_locations = np.argwhere(binned_spikes[cell_ix,:])[:, 0]\n",
    "    full_example_event_acc.append(spike_locations)"
   ],
   "metadata": {
    "collapsed": false,
    "pycharm": {
     "name": "#%%\n"
    }
   }
  },
  {
   "cell_type": "code",
   "execution_count": null,
   "outputs": [],
   "source": [
    "fig, ax = plt.subplots()\n",
    "\n",
    "ax.eventplot(full_example_event_acc, colors='black',linewidths=1)\n",
    "\n",
    "ax.set_xlim(-100, 1000)\n",
    "ax.spines['top'].set_visible(False)\n",
    "ax.spines['right'].set_visible(False)\n",
    "ax.spines['bottom'].set_visible(True)\n",
    "ax.spines['left'].set_visible(False)\n",
    "ax.set_yticks([])\n",
    "\n",
    "ax.set_xticks([0, 250, 500, 750, 1000])\n",
    "ax.set_xlim([0, 1000])\n",
    "\n",
    "start_time = (frame_transitions[60] - frame_transitions[0]) / 20\n",
    "p2 = mpatches.Rectangle([start_time, 0], *[500, 720], color=\"gray\", clip_on=False, alpha=0.2)\n",
    "ax.add_patch(p2)\n",
    "\n",
    "ax.set_xlabel('Time [ms]')\n",
    "\n",
    "plt.show()"
   ],
   "metadata": {
    "collapsed": false,
    "pycharm": {
     "name": "#%%\n"
    }
   }
  },
  {
   "cell_type": "markdown",
   "source": [
    "### Simultaneously reconstruct images and estimate eye movements\n",
    "\n",
    "(warning, these cells will take ~15 minutes to run on a modern GPU)"
   ],
   "metadata": {
    "collapsed": false,
    "pycharm": {
     "name": "#%% md\n"
    }
   }
  },
  {
   "cell_type": "code",
   "execution_count": null,
   "outputs": [],
   "source": [
    "from dejitter_recons.joint_em_estimation import create_gaussian_multinomial\n",
    "from generate_joint_eye_movements_reconstructions import make_get_iterators, \\\n",
    "    generate_joint_eye_movement_trajectory_reconstructions\n",
    "from dejitter_recons.estimate_image import noreduce_nomask_batch_bin_bernoulli_neg_LL"
   ],
   "metadata": {
    "collapsed": false,
    "pycharm": {
     "name": "#%%\n"
    }
   }
  },
  {
   "cell_type": "code",
   "execution_count": null,
   "outputs": [],
   "source": [
    "NUM_PARTICLES = 10\n",
    "gaussian_multinomial = create_gaussian_multinomial(1.2, 2)\n",
    "\n",
    "RHO_START=0.01778279410038923\n",
    "RHO_END=3.1622776601683795\n",
    "PRIOR_WEIGHT=0.15\n",
    "EYE_MOVEMENT_WEIGHT=0.5\n",
    "HQS_NITER=5\n",
    "\n",
    "ground_truth, reconstructions, eye_movement_trajectories = generate_joint_eye_movement_trajectory_reconstructions(\n",
    "    packed_glm_tensors,\n",
    "    demo_dataloader,\n",
    "    SAMPLES_PER_BIN,\n",
    "    30 * SAMPLES_PER_BIN,\n",
    "    NUM_PARTICLES,\n",
    "    gaussian_multinomial,\n",
    "    PRIOR_WEIGHT,\n",
    "    EYE_MOVEMENT_WEIGHT,\n",
    "    noreduce_nomask_batch_bin_bernoulli_neg_LL,\n",
    "    make_get_iterators(RHO_START, RHO_END, HQS_NITER),\n",
    "    make_get_iterators(RHO_END, RHO_END, 1),\n",
    "    demo_data_metadata['valid_region'],\n",
    "    device,\n",
    "    init_noise_sigma=None,\n",
    "    em_inner_opt_verbose=False,\n",
    "    throwaway_log_prob=-6,\n",
    "    compute_image_every_n=10\n",
    ")\n"
   ],
   "metadata": {
    "collapsed": false,
    "pycharm": {
     "name": "#%%\n"
    }
   }
  },
  {
   "cell_type": "code",
   "execution_count": null,
   "outputs": [],
   "source": [
    "fig, ax = plt.subplots()\n",
    "ax.imshow(demo_data_metadata['valid_region'] * reconstructions[0, ...], vmin=-1.0, vmax=1.0, cmap='gray')\n",
    "ax.axis('off')\n",
    "plt.show()"
   ],
   "metadata": {
    "collapsed": false,
    "pycharm": {
     "name": "#%%\n"
    }
   }
  },
  {
   "cell_type": "markdown",
   "source": [
    "### Generate known eye movements reconstructions\n",
    "\n",
    "This cell should take about 1 minute to run on a modern GPU"
   ],
   "metadata": {
    "collapsed": false,
    "pycharm": {
     "name": "#%% md\n"
    }
   }
  },
  {
   "cell_type": "code",
   "execution_count": null,
   "outputs": [],
   "source": [
    "from generate_fixed_eye_movements_reconstructions import batch_generate_known_eye_movement_trajectory_reconstructions"
   ],
   "metadata": {
    "collapsed": false,
    "pycharm": {
     "name": "#%%\n"
    }
   }
  },
  {
   "cell_type": "code",
   "execution_count": null,
   "outputs": [],
   "source": [
    "RHO_START=0.01778279410038923\n",
    "RHO_END=3.1622776601683795\n",
    "PRIOR_WEIGHT=0.15\n",
    "HQS_NITER=5\n",
    "\n",
    "ground_truth, known_eye_movements_reconstructions, known_eye_movements = batch_generate_known_eye_movement_trajectory_reconstructions(\n",
    "    packed_glm_tensors,\n",
    "    demo_dataloader,\n",
    "    SAMPLES_PER_BIN,\n",
    "    30 * SAMPLES_PER_BIN,\n",
    "    PRIOR_WEIGHT,\n",
    "    noreduce_nomask_batch_bin_bernoulli_neg_LL,\n",
    "    make_get_iterators(RHO_START, RHO_END, HQS_NITER),\n",
    "    demo_data_metadata['valid_region'],\n",
    "    1,\n",
    "    device,\n",
    "    use_exact_eye_movements=True\n",
    ")"
   ],
   "metadata": {
    "collapsed": false,
    "pycharm": {
     "name": "#%%\n"
    }
   }
  },
  {
   "cell_type": "code",
   "execution_count": null,
   "outputs": [],
   "source": [
    "fig, ax = plt.subplots()\n",
    "ax.imshow(demo_data_metadata['valid_region'] * known_eye_movements_reconstructions[0, ...], \n",
    "          vmin=-1.0, vmax=1.0, cmap='gray')\n",
    "ax.axis('off')\n",
    "plt.show()"
   ],
   "metadata": {
    "collapsed": false,
    "pycharm": {
     "name": "#%%\n"
    }
   }
  },
  {
   "cell_type": "markdown",
   "source": [
    "### Ignore eye movements while doing reconstruction\n",
    "\n",
    "This cell should take about 1 minute to run on a modern GPU"
   ],
   "metadata": {
    "collapsed": false,
    "pycharm": {
     "name": "#%% md\n"
    }
   }
  },
  {
   "cell_type": "code",
   "execution_count": null,
   "outputs": [],
   "source": [
    "RHO_START=0.01778279410038923\n",
    "RHO_END=3.1622776601683795\n",
    "PRIOR_WEIGHT=0.15\n",
    "HQS_NITER=5\n",
    "\n",
    "ground_truth, ignore_eye_movements_reconstructions, _ = batch_generate_known_eye_movement_trajectory_reconstructions(\n",
    "    packed_glm_tensors,\n",
    "    demo_dataloader,\n",
    "    SAMPLES_PER_BIN,\n",
    "    30 * SAMPLES_PER_BIN,\n",
    "    PRIOR_WEIGHT,\n",
    "    noreduce_nomask_batch_bin_bernoulli_neg_LL,\n",
    "    make_get_iterators(RHO_START, RHO_END, HQS_NITER),\n",
    "    demo_data_metadata['valid_region'],\n",
    "    1,\n",
    "    device,\n",
    "    use_exact_eye_movements=False,\n",
    ")"
   ],
   "metadata": {
    "collapsed": false,
    "pycharm": {
     "name": "#%%\n"
    }
   }
  },
  {
   "cell_type": "code",
   "execution_count": null,
   "outputs": [],
   "source": [
    "fig, ax = plt.subplots()\n",
    "ax.imshow(demo_data_metadata['valid_region'] * ignore_eye_movements_reconstructions[0, ...], \n",
    "          vmin=-1.0, vmax=1.0, cmap='gray')\n",
    "ax.axis('off')\n",
    "plt.show()"
   ],
   "metadata": {
    "collapsed": false,
    "pycharm": {
     "name": "#%%\n"
    }
   }
  },
  {
   "cell_type": "markdown",
   "source": [
    "### Plot all of the example images"
   ],
   "metadata": {
    "collapsed": false,
    "pycharm": {
     "name": "#%% md\n"
    }
   }
  },
  {
   "cell_type": "code",
   "execution_count": null,
   "outputs": [],
   "source": [
    "convex_hull_mask_matrix_bool = demo_data_metadata['valid_region']"
   ],
   "metadata": {
    "collapsed": false,
    "pycharm": {
     "name": "#%%\n"
    }
   }
  },
  {
   "cell_type": "code",
   "execution_count": null,
   "outputs": [],
   "source": [
    "fig, axes = plt.subplots(ground_truth.shape[0], 4, figsize=(9, ground_truth.shape[0] * (8 / 5)))\n",
    "for ix in range(ground_truth.shape[0]):\n",
    "    \n",
    "    ax = axes[ix][0]\n",
    "    ax.imshow(ground_truth[ix, 20:, 16:-32] * convex_hull_mask_matrix_bool[20:, 16:-32], cmap='gray', vmin=-1.0, vmax=1.0)\n",
    "    ax.axis('off')\n",
    "    \n",
    "    if ix == 0:\n",
    "        ax.set_title(\"Stimulus\", fontsize=14)\n",
    "    \n",
    "    ax = axes[ix][3]\n",
    "    ax.imshow(reconstructions[ix, 20:, 16:-32] * convex_hull_mask_matrix_bool[20:, 16:-32], cmap='gray', vmin=-1.0, vmax=1.0)\n",
    "    ax.axis('off')\n",
    "    \n",
    "    if ix == 0:\n",
    "        ax.set_title(\"joint-LNBRC-dCNN\", fontsize=14)\n",
    "    \n",
    "    ax = axes[ix][1]\n",
    "    ax.imshow(known_eye_movements_reconstructions[ix, 20:, 16:-32] * convex_hull_mask_matrix_bool[20:, 16:-32], cmap='gray', vmin=-1.0, vmax=1.0)\n",
    "    ax.axis('off')\n",
    "    \n",
    "    if ix == 0:\n",
    "        ax.set_title(\"known-LNBRC-dCNN\", fontsize=14)\n",
    "    \n",
    "    ax = axes[ix][2]\n",
    "    ax.imshow(ignore_eye_movements_reconstructions[ix, 20:, 16:-32] * convex_hull_mask_matrix_bool[20:, 16:-32], cmap='gray', vmin=-1.0, vmax=1.0)\n",
    "    ax.axis('off')\n",
    "    \n",
    "    if ix == 0:\n",
    "        ax.set_title(\"zero-LNBRC-dCNN\", fontsize=14)\n",
    "    \n",
    "plt.tight_layout()\n",
    "\n",
    "\n",
    "plt.show()"
   ],
   "metadata": {
    "collapsed": false,
    "pycharm": {
     "name": "#%%\n"
    }
   }
  },
  {
   "cell_type": "code",
   "execution_count": null,
   "id": "003cbcca-2f1c-47c3-9451-3e7f7dd89b7f",
   "metadata": {
    "pycharm": {
     "name": "#%%\n"
    }
   },
   "outputs": [],
   "source": []
  }
 ],
 "metadata": {
  "kernelspec": {
   "display_name": "Python 3 (ipykernel)",
   "language": "python",
   "name": "python3"
  },
  "language_info": {
   "codemirror_mode": {
    "name": "ipython",
    "version": 3
   },
   "file_extension": ".py",
   "mimetype": "text/x-python",
   "name": "python",
   "nbconvert_exporter": "python",
   "pygments_lexer": "ipython3",
   "version": "3.9.13"
  }
 },
 "nbformat": 4,
 "nbformat_minor": 5
}